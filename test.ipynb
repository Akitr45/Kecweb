{
 "cells": [
  {
   "cell_type": "code",
   "execution_count": 56,
   "metadata": {},
   "outputs": [],
   "source": [
    "import pytesseract\n",
    "from PIL import Image\n",
    "import pdf2image\n",
    "import re"
   ]
  },
  {
   "cell_type": "code",
   "execution_count": 370,
   "metadata": {},
   "outputs": [],
   "source": [
    "pdf_file = \"fetched_data/result/Result Result BEBAR IIII & BAR IVII exam held on 2078 Poush.pdf\""
   ]
  },
  {
   "cell_type": "code",
   "execution_count": 362,
   "metadata": {},
   "outputs": [],
   "source": [
    "pdf_file =\"fetched_data/result/Result Result BEBAR III exam held on 2079 Jestha.pdf\""
   ]
  },
  {
   "cell_type": "code",
   "execution_count": 372,
   "metadata": {},
   "outputs": [],
   "source": [
    "images = pdf2image.convert_from_path(pdf_file)"
   ]
  },
  {
   "cell_type": "code",
   "execution_count": 330,
   "metadata": {},
   "outputs": [],
   "source": [
    "languages = ['eng', 'nep']\n",
    "\n",
    "# Set the page segmentation mode to use automatic page segmentation with OSD\n",
    "psm = '--psm 6'\n",
    "\n",
    "# Set the OCR engine mode to use both LSTM and Legacy OCR engines\n",
    "oem = '--oem 3'\n",
    "\n",
    "# Build the configuration string\n",
    "config = f'{psm} {oem} -l {\"+\".join(languages)}'\n"
   ]
  },
  {
   "cell_type": "code",
   "execution_count": 375,
   "metadata": {},
   "outputs": [
    {
     "name": "stdout",
     "output_type": "stream",
     "text": [
      "II\n"
     ]
    }
   ],
   "source": [
    "faculty_level_pattern = r'(I|II|III|IV)/\\s*(I|II|III|IV)\\s+'\n",
    "text1 = pytesseract.image_to_string(images[0])\n",
    "text1 = text1.split(\"Page\")[0].replace(\"l\",\"I\")\n",
    "faculty = re.findall(faculty_level_pattern,text1)\n",
    "print(faculty[0][0])\n"
   ]
  },
  {
   "cell_type": "code",
   "execution_count": 331,
   "metadata": {},
   "outputs": [],
   "source": [
    "text_append = []\n",
    "for pg_no,image in enumerate(images):\n",
    "    if pg_no == 0:\n",
    "        text = pytesseract.image_to_string(image,config=config)\n",
    "        text = text.split(\"।\")[-1].strip()\n",
    "    elif pg_no < len(images)-1:\n",
    "        text = pytesseract.image_to_string(image,config=\"--psm 6\")\n",
    "        text = text.split(\"Nepal\")[-1].strip()\n",
    "    elif pg_no == len(images)-1:\n",
    "        text = pytesseract.image_to_string(image,config=config)\n",
    "        text = text.split(\"Nepal\")[-1].strip()\n",
    "        text = \"\".join(text.split(\"परीक्षा\")[0]).strip()\n",
    "\n",
    "    text_append.append(text.strip().replace(\" &\",\",\").replace(\".\",\"\"))\n"
   ]
  },
  {
   "cell_type": "code",
   "execution_count": 332,
   "metadata": {},
   "outputs": [],
   "source": [
    "input_txt = \"\".join(text_append)"
   ]
  },
  {
   "cell_type": "code",
   "execution_count": 333,
   "metadata": {},
   "outputs": [],
   "source": [
    "# Define the regular expression pattern to match the faculty names and their symbol numbers\n",
    "pattern = r'(\\w+)\\s+(\\w+/?\\w*)\\s+((?:\\d+(?:,\\s*)?)+)'\n",
    "# Iterate over the matches in the input text and create a dictionary of faculty names and symbol numbers\n",
    "symbol_dict = {}\n",
    "for match in re.finditer(pattern, input_txt):\n",
    "    faculty_name = match.group(1)\n",
    "    faculty_level = match.group(2)\n",
    "    # symbol_numbers = [int(x) for x in match.group(3).split(',')]\n",
    "    symbol_numbers = re.findall(r'\\b\\d+\\b',match.group(3))\n",
    "    key = faculty_name\n",
    "    symbol_dict[key] = symbol_numbers\n"
   ]
  },
  {
   "cell_type": "code",
   "execution_count": 335,
   "metadata": {},
   "outputs": [
    {
     "name": "stdout",
     "output_type": "stream",
     "text": [
      "['50053', '50055', '50101', '50202']\n"
     ]
    }
   ],
   "source": [
    "print(symbol_dict[\"BAR\"])"
   ]
  },
  {
   "cell_type": "code",
   "execution_count": 323,
   "metadata": {},
   "outputs": [
    {
     "name": "stdout",
     "output_type": "stream",
     "text": [
      "dict_keys(['BCE', 'BEL', 'BEX', 'BCT', 'BME', 'BAM', 'BIE', 'BGE', 'BAG', 'BAS', 'BAE'])\n"
     ]
    }
   ],
   "source": [
    "print(symbol_dict.keys())"
   ]
  }
 ],
 "metadata": {
  "kernelspec": {
   "display_name": "venv",
   "language": "python",
   "name": "python3"
  },
  "language_info": {
   "codemirror_mode": {
    "name": "ipython",
    "version": 3
   },
   "file_extension": ".py",
   "mimetype": "text/x-python",
   "name": "python",
   "nbconvert_exporter": "python",
   "pygments_lexer": "ipython3",
   "version": "3.10.6"
  },
  "orig_nbformat": 4
 },
 "nbformat": 4,
 "nbformat_minor": 2
}
